{
 "cells": [
  {
   "cell_type": "raw",
   "id": "24115052-55b8-491f-afbf-2d726aa8102f",
   "metadata": {},
   "source": [
    "Write a program that accepts a list from user and print the alternate element of list."
   ]
  },
  {
   "cell_type": "code",
   "execution_count": 8,
   "id": "c802cefc-f2b1-405e-b749-6730a7c28e0a",
   "metadata": {},
   "outputs": [
    {
     "name": "stdin",
     "output_type": "stream",
     "text": [
      "Enter list elements separated by space:  1 2 3 4 5 6 \n"
     ]
    },
    {
     "name": "stdout",
     "output_type": "stream",
     "text": [
      "Alternate elements of the list: ['1', '3', '5']\n"
     ]
    }
   ],
   "source": [
    "lst = input(\"Enter list elements separated by space: \").split()\n",
    "alternate_elements = lst[::2]\n",
    "print(\"Alternate elements of the list:\", alternate_elements)"
   ]
  },
  {
   "cell_type": "raw",
   "id": "d64f4678-52d7-490a-813b-0d37e4d4eb8b",
   "metadata": {},
   "source": [
    "Write a program that accepts a list from user. Your program should reverse the content of list and\n",
    "display it. Do not use reverse() method."
   ]
  },
  {
   "cell_type": "code",
   "execution_count": 12,
   "id": "67a5cda6-c837-4a52-b0ad-7666bc7cc5fa",
   "metadata": {},
   "outputs": [
    {
     "name": "stdin",
     "output_type": "stream",
     "text": [
      "Enter list elements separated by space:  1 2 3 4 5 6 7 8 9 10\n"
     ]
    },
    {
     "name": "stdout",
     "output_type": "stream",
     "text": [
      "Reversed list: ['10', '9', '8', '7', '6', '5', '4', '3', '2', '1']\n"
     ]
    }
   ],
   "source": [
    "lst = input(\"Enter list elements separated by space: \").split()\n",
    "reversed_list = lst[::-1]\n",
    "print(\"Reversed list:\", reversed_list)\n"
   ]
  },
  {
   "cell_type": "raw",
   "id": "2cf9b095-4eaf-4d17-88ba-1f2d351256ac",
   "metadata": {},
   "source": [
    "Find and display the largest number of a list without using built-in function max(). Your program\n",
    "should ask the user to input values in list from keyboard."
   ]
  },
  {
   "cell_type": "code",
   "execution_count": 13,
   "id": "494edd16-a185-499d-ae30-df0fc1b2ce96",
   "metadata": {},
   "outputs": [
    {
     "name": "stdin",
     "output_type": "stream",
     "text": [
      "Enter numbers separated by space:  10 25 35 50 55\n"
     ]
    },
    {
     "name": "stdout",
     "output_type": "stream",
     "text": [
      "The largest number is: 55\n"
     ]
    }
   ],
   "source": [
    "numbers = list(map(int, input(\"Enter numbers separated by space: \").split()))\n",
    "largest = numbers[0]\n",
    "for num in numbers[1:]:\n",
    "    if num > largest:\n",
    "        largest = num\n",
    "print(\"The largest number is:\", largest)"
   ]
  },
  {
   "cell_type": "raw",
   "id": "f5855d14-6580-4434-ab60-9961484c4947",
   "metadata": {},
   "source": [
    "Write a program that rotates the element of a list so that the element at the first index moves to the\n",
    "second index, the element in the second index moves to the third index, etc., and the element in the last\n",
    "index moves to the first index."
   ]
  },
  {
   "cell_type": "code",
   "execution_count": 14,
   "id": "81fc7e2e-5325-4c3d-819d-4f6121262f4b",
   "metadata": {},
   "outputs": [
    {
     "name": "stdin",
     "output_type": "stream",
     "text": [
      "Enter list elements separated by space:  apple banana cherry orange\n"
     ]
    },
    {
     "name": "stdout",
     "output_type": "stream",
     "text": [
      "Rotated list: ['orange', 'apple', 'banana', 'cherry']\n"
     ]
    }
   ],
   "source": [
    "lst = input(\"Enter list elements separated by space: \").split()\n",
    "rotated_list = [lst[-1]] + lst[:-1]\n",
    "print(\"Rotated list:\", rotated_list)"
   ]
  },
  {
   "cell_type": "raw",
   "id": "aa5fc19f-2b76-4c72-a5aa-28affcd558f7",
   "metadata": {},
   "source": [
    "Write a program that input a string and ask user to delete a given word from a string."
   ]
  },
  {
   "cell_type": "code",
   "execution_count": 16,
   "id": "fed7845b-19b6-43b1-95dd-e1699d1afff0",
   "metadata": {},
   "outputs": [
    {
     "name": "stdin",
     "output_type": "stream",
     "text": [
      "Enter a string:  apple banana cherry oranges\n",
      "Enter the word to delete:  cherry\n"
     ]
    },
    {
     "name": "stdout",
     "output_type": "stream",
     "text": [
      "Updated string: apple banana oranges\n"
     ]
    }
   ],
   "source": [
    "text = input(\"Enter a string: \")\n",
    "word_to_delete = input(\"Enter the word to delete: \")\n",
    "new_text = ' '.join([word for word in text.split() if word != word_to_delete])\n",
    "print(\"Updated string:\", new_text)"
   ]
  },
  {
   "cell_type": "raw",
   "id": "e8b5a063-d0cf-40f5-87c0-1cf992474d84",
   "metadata": {},
   "source": [
    "Write a program that reads a string from the user containing a date in the form mm/dd/yyyy. It\n",
    "should print the date in the form March 12, 2021."
   ]
  },
  {
   "cell_type": "code",
   "execution_count": 20,
   "id": "305a35f2-18dc-493b-a392-efd3576ffa7a",
   "metadata": {},
   "outputs": [
    {
     "name": "stdin",
     "output_type": "stream",
     "text": [
      "Enter a date (mm/dd/yyyy):  6/11/1999\n"
     ]
    },
    {
     "name": "stdout",
     "output_type": "stream",
     "text": [
      "June 11, 1999\n"
     ]
    }
   ],
   "source": [
    "date_str = input(\"Enter a date (mm/dd/yyyy): \")\n",
    "month_names = [\"January\", \"February\", \"March\", \"April\", \"May\", \"June\",\n",
    "               \"July\", \"August\", \"September\", \"October\", \"November\", \"December\"]\n",
    "month, day, year = date_str.split(\"/\")\n",
    "month_name = month_names[int(month) - 1]\n",
    "print(f\"{month_name} {int(day)}, {year}\")"
   ]
  },
  {
   "cell_type": "raw",
   "id": "1131fa59-e8e7-459a-b5f6-7b1e62165755",
   "metadata": {},
   "source": [
    "Write a program with a function that accepts a string from keyboard and create a new string after\n",
    "converting character of each word capitalized. For instance, if the sentence is \"stop and smell the roses.\"\n",
    "the output should be \"Stop And Smell The Roses\""
   ]
  },
  {
   "cell_type": "code",
   "execution_count": 21,
   "id": "d012da02-7a76-4880-a086-546b1c7becd3",
   "metadata": {},
   "outputs": [
    {
     "name": "stdin",
     "output_type": "stream",
     "text": [
      "Enter a sentence:  i like python\n"
     ]
    },
    {
     "name": "stdout",
     "output_type": "stream",
     "text": [
      "Capitalized sentence: I Like Python\n"
     ]
    }
   ],
   "source": [
    "def capitalize_words(sentence):\n",
    "    words = sentence.split()\n",
    "    capitalized_words = [word.capitalize() for word in words]\n",
    "    return ' '.join(capitalized_words)\n",
    "text = input(\"Enter a sentence: \")\n",
    "new_text = capitalize_words(text)\n",
    "print(\"Capitalized sentence:\", new_text)"
   ]
  },
  {
   "cell_type": "raw",
   "id": "89aae357-5a9a-4e00-a39d-4c277c35bb03",
   "metadata": {},
   "source": [
    "Find the sum of each row of matrix of size m x n. For example for the following matrix output will be\n",
    "like this :\n",
    "Sum of row 1 = 32\n",
    "Sum of row 2 = 31\n",
    "Sum of row 3 = 63"
   ]
  },
  {
   "cell_type": "code",
   "execution_count": 23,
   "id": "b26c831a-6f54-46ed-91b7-f4ecebf81202",
   "metadata": {},
   "outputs": [
    {
     "name": "stdin",
     "output_type": "stream",
     "text": [
      "Enter number of rows:  3\n",
      "Enter number of columns:  4\n",
      "Enter elements of row 1 separated by space:  3\n",
      "Enter elements of row 2 separated by space:  4\n",
      "Enter elements of row 3 separated by space:  5\n"
     ]
    },
    {
     "name": "stdout",
     "output_type": "stream",
     "text": [
      "Sum of row 1 = 3\n",
      "Sum of row 2 = 4\n",
      "Sum of row 3 = 5\n"
     ]
    }
   ],
   "source": [
    "m = int(input(\"Enter number of rows: \"))\n",
    "n = int(input(\"Enter number of columns: \"))\n",
    "matrix = []\n",
    "for i in range(m):\n",
    "    row = list(map(int, input(f\"Enter elements of row {i+1} separated by space: \").split()))\n",
    "    matrix.append(row)\n",
    "for i in range(m):\n",
    "    row_sum = sum(matrix[i])\n",
    "    print(f\"Sum of row {i+1} = {row_sum}\")\n"
   ]
  },
  {
   "cell_type": "raw",
   "id": "a30d91ae-c833-483f-9572-4002f8cb6c2f",
   "metadata": {},
   "source": [
    "Write a program to add two matrices of size n x m."
   ]
  },
  {
   "cell_type": "code",
   "execution_count": 27,
   "id": "00347ff0-2332-4cb2-81ef-e9610f8296a3",
   "metadata": {},
   "outputs": [
    {
     "name": "stdin",
     "output_type": "stream",
     "text": [
      "Enter number of rows:  2\n",
      "Enter number of columns:  3\n",
      "Enter 3 elements of first matrix row 1 separated by space:  1 2 3\n",
      "Enter 3 elements of first matrix row 2 separated by space:   4 5 6\n",
      "Enter 3 elements of second matrix row 1 separated by space:   7 8 9\n",
      "Enter 3 elements of second matrix row 2 separated by space:   1 2 3\n"
     ]
    },
    {
     "name": "stdout",
     "output_type": "stream",
     "text": [
      "Sum of the two matrices:\n",
      "8 10 12\n",
      "5 7 9\n"
     ]
    }
   ],
   "source": [
    "n = int(input(\"Enter number of rows: \"))\n",
    "m = int(input(\"Enter number of columns: \"))\n",
    "def input_matrix(name):\n",
    "    matrix = []\n",
    "    for i in range(n):\n",
    "        while True:\n",
    "            row = input(f\"Enter {m} elements of {name} row {i+1} separated by space: \").split()\n",
    "            if len(row) != m:\n",
    "                print(f\"Error: You must enter exactly {m} elements.\")\n",
    "            else:\n",
    "                matrix.append(list(map(int, row)))\n",
    "                break\n",
    "    return matrix\n",
    "matrix1 = input_matrix(\"first matrix\")\n",
    "matrix2 = input_matrix(\"second matrix\")\n",
    "result = []\n",
    "for i in range(n):\n",
    "    row_sum = []\n",
    "    for j in range(m):\n",
    "        row_sum.append(matrix1[i][j] + matrix2[i][j])\n",
    "    result.append(row_sum)\n",
    "print(\"Sum of the two matrices:\")\n",
    "for row in result:\n",
    "    print(' '.join(map(str, row)))"
   ]
  },
  {
   "cell_type": "raw",
   "id": "8960c43a-c771-4a9f-8322-68623c446512",
   "metadata": {},
   "source": [
    "Write a program to multiply two matrices"
   ]
  },
  {
   "cell_type": "code",
   "execution_count": 28,
   "id": "eea6827c-8758-4cf2-bc5f-93cb203d7772",
   "metadata": {},
   "outputs": [
    {
     "name": "stdin",
     "output_type": "stream",
     "text": [
      "Enter number of rows for first matrix:  2\n",
      "Enter number of columns for first matrix:  3\n",
      "Enter number of rows for second matrix:  3\n",
      "Enter number of columns for second matrix:  2\n"
     ]
    },
    {
     "name": "stdout",
     "output_type": "stream",
     "text": [
      "Enter elements of first matrix:\n"
     ]
    },
    {
     "name": "stdin",
     "output_type": "stream",
     "text": [
      "Row 1:  1 2 3\n",
      "Row 2:  4 5 6\n"
     ]
    },
    {
     "name": "stdout",
     "output_type": "stream",
     "text": [
      "Enter elements of second matrix:\n"
     ]
    },
    {
     "name": "stdin",
     "output_type": "stream",
     "text": [
      "Row 1:  7 8\n",
      "Row 2:  9 10\n",
      "Row 3:  11 12\n"
     ]
    },
    {
     "name": "stdout",
     "output_type": "stream",
     "text": [
      "Product of the two matrices:\n",
      "58 64\n",
      "139 154\n"
     ]
    }
   ],
   "source": [
    "rows1 = int(input(\"Enter number of rows for first matrix: \"))\n",
    "cols1 = int(input(\"Enter number of columns for first matrix: \"))\n",
    "rows2 = int(input(\"Enter number of rows for second matrix: \"))\n",
    "cols2 = int(input(\"Enter number of columns for second matrix: \"))\n",
    "if cols1 != rows2:\n",
    "    print(\"Matrix multiplication not possible. Number of columns in first matrix must equal number of rows in second matrix.\")\n",
    "else:\n",
    "    # Input first matrix\n",
    "    print(\"Enter elements of first matrix:\")\n",
    "    matrix1 = []\n",
    "    for i in range(rows1):\n",
    "        row = list(map(int, input(f\"Row {i+1}: \").split()))\n",
    "        matrix1.append(row)\n",
    "    print(\"Enter elements of second matrix:\")\n",
    "    matrix2 = []\n",
    "    for i in range(rows2):\n",
    "        row = list(map(int, input(f\"Row {i+1}: \").split()))\n",
    "        matrix2.append(row)\n",
    "    result = [[0 for _ in range(cols2)] for _ in range(rows1)]\n",
    "    for i in range(rows1):\n",
    "        for j in range(cols2):\n",
    "            for k in range(cols1):\n",
    "                result[i][j] += matrix1[i][k] * matrix2[k][j]\n",
    "    print(\"Product of the two matrices:\")\n",
    "    for row in result:\n",
    "        print(' '.join(map(str, row)))"
   ]
  }
 ],
 "metadata": {
  "kernelspec": {
   "display_name": "Python 3 (ipykernel)",
   "language": "python",
   "name": "python3"
  },
  "language_info": {
   "codemirror_mode": {
    "name": "ipython",
    "version": 3
   },
   "file_extension": ".py",
   "mimetype": "text/x-python",
   "name": "python",
   "nbconvert_exporter": "python",
   "pygments_lexer": "ipython3",
   "version": "3.13.5"
  }
 },
 "nbformat": 4,
 "nbformat_minor": 5
}
