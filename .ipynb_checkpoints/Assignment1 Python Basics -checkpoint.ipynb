{
 "cells": [
  {
   "cell_type": "markdown",
   "id": "1838d8b2-278f-49ef-93f9-abfdecf61172",
   "metadata": {},
   "source": [
    "#### Python Basics (Variables)"
   ]
  },
  {
   "cell_type": "raw",
   "id": "60d9848c-37e2-4eb1-9c6a-848cc0ff6b0c",
   "metadata": {},
   "source": [
    "Print Your Name with your Father name and Date of birth using suitable escape sequence charactor"
   ]
  },
  {
   "cell_type": "code",
   "execution_count": 1,
   "id": "49e8edbf-f284-4a58-8eb9-87459331e312",
   "metadata": {},
   "outputs": [
    {
     "name": "stdout",
     "output_type": "stream",
     "text": [
      "Name:\tMuhammad Atif Khan\n",
      "Father's Name:\tMuhammad Iqabl\n",
      "Date of Birth:\t11-06-1999\n"
     ]
    }
   ],
   "source": [
    "print(\"Name:\\tMuhammad Atif Khan\\nFather's Name:\\tMuhammad Iqabl\\nDate of Birth:\\t11-06-1999\")"
   ]
  },
  {
   "cell_type": "raw",
   "id": "f801a73b-b65d-4a71-bd77-c4e50d0d68af",
   "metadata": {},
   "source": [
    "Write your small bio using variables and print it using print function"
   ]
  },
  {
   "cell_type": "code",
   "execution_count": 2,
   "id": "a463e287-511c-435c-a915-a66c6950af0a",
   "metadata": {},
   "outputs": [
    {
     "name": "stdout",
     "output_type": "stream",
     "text": [
      "My Name is: Muhammad Atif Khan\n",
      "My Father's Name is: Muhammad Iqbal\n",
      "Date of Birth: 11-06-1999\n",
      "Country: Pakistan\n",
      "Profession: Software Developer\n"
     ]
    }
   ],
   "source": [
    "\n",
    "name = \"Muhammad Atif Khan\"\n",
    "father_name = \"Muhammad Iqbal\"\n",
    "date_of_birth = \"11-06-1999\"\n",
    "country = \"Pakistan\"\n",
    "profession = \"Software Developer\"\n",
    "print(\"My Name is:\", name)\n",
    "print(\"My Father's Name is:\", father_name)\n",
    "print(\"Date of Birth:\", date_of_birth)\n",
    "print(\"Country:\", country)\n",
    "print(\"Profession:\", profession)\n"
   ]
  },
  {
   "cell_type": "raw",
   "id": "caba210f-6314-4984-ab42-e9329010e473",
   "metadata": {},
   "source": [
    "Write a program in which use all the operators we can use in Python"
   ]
  },
  {
   "cell_type": "code",
   "execution_count": 3,
   "id": "b8985aad-03fa-42a6-b6b3-c5feb3274ed8",
   "metadata": {},
   "outputs": [
    {
     "name": "stdout",
     "output_type": "stream",
     "text": [
      "Name:\tMuhammad Atif Khan\n",
      "Father's Name:\tMuhammad Iqbal\n",
      "Date of Birth:\t11-06-1999\n",
      "Country:\tPakistan\n",
      "Profession:\tSoftware Developer\n",
      "\n",
      "13\n",
      "7\n",
      "30\n",
      "3.3333333333333335\n",
      "3\n",
      "1\n",
      "1000\n",
      "7\n",
      "4\n",
      "8\n",
      "2.0\n",
      "0.0\n",
      "0.0\n",
      "0.0\n",
      "False\n",
      "True\n",
      "False\n",
      "True\n",
      "False\n",
      "True\n",
      "False\n",
      "True\n",
      "False\n",
      "1\n",
      "7\n",
      "6\n",
      "-6\n",
      "10\n",
      "2\n",
      "True\n",
      "True\n",
      "True\n",
      "False\n",
      "True\n"
     ]
    }
   ],
   "source": [
    "name = \"Muhammad Atif Khan\"\n",
    "father_name = \"Muhammad Iqbal\"\n",
    "dob = \"11-06-1999\"\n",
    "country = \"Pakistan\"\n",
    "profession = \"Software Developer\"\n",
    "\n",
    "print(f\"Name:\\t{name}\\nFather's Name:\\t{father_name}\\nDate of Birth:\\t{dob}\\nCountry:\\t{country}\\nProfession:\\t{profession}\\n\")\n",
    "\n",
    "a = 10\n",
    "b = 3\n",
    "print(a + b)\n",
    "print(a - b)\n",
    "print(a * b)\n",
    "print(a / b)\n",
    "print(a // b)\n",
    "print(a % b)\n",
    "print(a ** b)\n",
    "\n",
    "c = 5\n",
    "c += 2\n",
    "print(c)\n",
    "c -= 3\n",
    "print(c)\n",
    "c *= 2\n",
    "print(c)\n",
    "c /= 4\n",
    "print(c)\n",
    "c %= 2\n",
    "print(c)\n",
    "c **= 3\n",
    "print(c)\n",
    "c //= 1\n",
    "print(c)\n",
    "\n",
    "x = 10\n",
    "y = 20\n",
    "print(x == y)\n",
    "print(x != y)\n",
    "print(x > y)\n",
    "print(x < y)\n",
    "print(x >= y)\n",
    "print(x <= y)\n",
    "\n",
    "p = True\n",
    "q = False\n",
    "print(p and q)\n",
    "print(p or q)\n",
    "print(not p)\n",
    "\n",
    "m = 5\n",
    "n = 3\n",
    "print(m & n)\n",
    "print(m | n)\n",
    "print(m ^ n)\n",
    "print(~m)\n",
    "print(m << 1)\n",
    "print(m >> 1)\n",
    "\n",
    "list1 = [1, 2, 3, 4, 5]\n",
    "print(3 in list1)\n",
    "print(6 not in list1)\n",
    "\n",
    "a1 = 10\n",
    "b1 = 10\n",
    "c1 = [1,2,3]\n",
    "d1 = [1,2,3]\n",
    "print(a1 is b1)\n",
    "print(c1 is d1)\n",
    "print(c1 == d1)\n"
   ]
  },
  {
   "cell_type": "raw",
   "id": "c54dcc67-ee80-4dc6-b7a7-c4d652a588e3",
   "metadata": {},
   "source": [
    "Completes the following steps of small task:\n",
    "Mention Marks of English , Islamiat and Maths out of 100 in 3 different variables\n",
    "Mention Variable of Total Marks and assign 300 to it\n",
    "Calculate Percentage"
   ]
  },
  {
   "cell_type": "code",
   "execution_count": 4,
   "id": "7ad76774-9b92-4419-b452-a83b8fd108ce",
   "metadata": {},
   "outputs": [
    {
     "name": "stdout",
     "output_type": "stream",
     "text": [
      "English Marks: 85\n",
      "Islamiat Marks: 90\n",
      "Maths Marks: 95\n",
      "Total Marks: 300\n",
      "Obtained Marks: 270\n",
      "Percentage: 90.0\n"
     ]
    }
   ],
   "source": [
    "english = 85\n",
    "islamiat = 90\n",
    "maths = 95\n",
    "total_marks = 300\n",
    "obtained_marks = english + islamiat + maths\n",
    "percentage = (obtained_marks / total_marks) * 100\n",
    "print(\"English Marks:\", english)\n",
    "print(\"Islamiat Marks:\", islamiat)\n",
    "print(\"Maths Marks:\", maths)\n",
    "print(\"Total Marks:\", total_marks)\n",
    "print(\"Obtained Marks:\", obtained_marks)\n",
    "print(\"Percentage:\", percentage)\n"
   ]
  }
 ],
 "metadata": {
  "kernelspec": {
   "display_name": "Python 3 (ipykernel)",
   "language": "python",
   "name": "python3"
  },
  "language_info": {
   "codemirror_mode": {
    "name": "ipython",
    "version": 3
   },
   "file_extension": ".py",
   "mimetype": "text/x-python",
   "name": "python",
   "nbconvert_exporter": "python",
   "pygments_lexer": "ipython3",
   "version": "3.13.5"
  }
 },
 "nbformat": 4,
 "nbformat_minor": 5
}
