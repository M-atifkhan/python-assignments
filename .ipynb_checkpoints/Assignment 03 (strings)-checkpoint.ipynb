{
 "cells": [
  {
   "cell_type": "markdown",
   "id": "12eeffdd-7e82-4aa9-a5b1-a274af233529",
   "metadata": {},
   "source": [
    "#### Write a program that accepts a string from user. Your program should count and display number of vowels in that string."
   ]
  },
  {
   "cell_type": "code",
   "execution_count": 1,
   "id": "fb75d1ed-c471-404a-8dfb-d94e69131918",
   "metadata": {},
   "outputs": [
    {
     "name": "stdin",
     "output_type": "stream",
     "text": [
      "Enter a string:  mango\n"
     ]
    },
    {
     "name": "stdout",
     "output_type": "stream",
     "text": [
      "Number of vowels in the string: 2\n"
     ]
    }
   ],
   "source": [
    "text = input(\"Enter a string: \")\n",
    "vowels = \"aeiouAEIOU\"\n",
    "count = 0\n",
    "for char in text:\n",
    "    if char in vowels:\n",
    "        count += 1\n",
    "print(\"Number of vowels in the string:\", count)"
   ]
  },
  {
   "cell_type": "markdown",
   "id": "c166a5e6-07be-4d79-b268-5cf25e4615c6",
   "metadata": {},
   "source": [
    "#### Write a program that reads a string from keyboard and display:\n",
    "* The number of uppercase letters in the string\n",
    "* The number of lowercase letters in the string\n",
    "* The number of digits in the string\n",
    "* The number of whitespace characters in the string"
   ]
  },
  {
   "cell_type": "code",
   "execution_count": 3,
   "id": "64d9a647-9ffb-4ff6-9700-5dae31052663",
   "metadata": {},
   "outputs": [
    {
     "name": "stdin",
     "output_type": "stream",
     "text": [
      "Enter a string:  AppLe\n"
     ]
    },
    {
     "name": "stdout",
     "output_type": "stream",
     "text": [
      "Number of uppercase letters: 2\n",
      "Number of lowercase letters: 3\n",
      "Number of digits: 0\n",
      "Number of whitespace characters: 0\n"
     ]
    }
   ],
   "source": [
    "text = input(\"Enter a string: \")\n",
    "uppercase_count = 0\n",
    "lowercase_count = 0\n",
    "digit_count = 0\n",
    "whitespace_count = 0\n",
    "for char in text:\n",
    "    if char.isupper():\n",
    "        uppercase_count += 1\n",
    "    elif char.islower():\n",
    "        lowercase_count += 1\n",
    "    elif char.isdigit():\n",
    "        digit_count += 1\n",
    "    elif char.isspace():\n",
    "        whitespace_count += 1\n",
    "print(\"Number of uppercase letters:\", uppercase_count)\n",
    "print(\"Number of lowercase letters:\", lowercase_count)\n",
    "print(\"Number of digits:\", digit_count)\n",
    "print(\"Number of whitespace characters:\", whitespace_count)\n"
   ]
  },
  {
   "cell_type": "markdown",
   "id": "5362de6b-cf6f-4845-b90e-c92910d3c8a7",
   "metadata": {},
   "source": [
    "#### Write a Python program that accepts a string from user. Your program should create and display a new string where the first and last characters have been exchanged."
   ]
  },
  {
   "cell_type": "code",
   "execution_count": 5,
   "id": "9d981985-eb56-444e-9ecd-c191210b0678",
   "metadata": {},
   "outputs": [
    {
     "name": "stdin",
     "output_type": "stream",
     "text": [
      "Enter a string:  HELLO\n"
     ]
    },
    {
     "name": "stdout",
     "output_type": "stream",
     "text": [
      "New string after exchanging first and last characters: OELLH\n"
     ]
    }
   ],
   "source": [
    "text = input(\"Enter a string: \")\n",
    "if len(text) > 1:\n",
    "    new_text = text[-1] + text[1:-1] + text[0]\n",
    "else:\n",
    "    new_text = text\n",
    "print(\"New string after exchanging first and last characters:\", new_text)"
   ]
  },
  {
   "cell_type": "markdown",
   "id": "ca5985dd-41dc-4fe1-bd61-0536b13d5a20",
   "metadata": {},
   "source": [
    "#### Write a Python program that accepts a string from user. Your program should create a new string in reverse of first string and display it."
   ]
  },
  {
   "cell_type": "code",
   "execution_count": 6,
   "id": "f655cf75-02e3-4666-8f3b-d9b6e10c18d2",
   "metadata": {},
   "outputs": [
    {
     "name": "stdin",
     "output_type": "stream",
     "text": [
      "Enter a string:  tac\n"
     ]
    },
    {
     "name": "stdout",
     "output_type": "stream",
     "text": [
      "Reversed string: cat\n"
     ]
    }
   ],
   "source": [
    "text = input(\"Enter a string: \")\n",
    "reversed_text = text[::-1]\n",
    "print(\"Reversed string:\", reversed_text)"
   ]
  },
  {
   "cell_type": "markdown",
   "id": "98612178-bbd4-4d5f-8dc8-cff9c58331fa",
   "metadata": {},
   "source": [
    "#### Write a Python program that accepts a string from user. Your program should create a new string by shifting one position to left."
   ]
  },
  {
   "cell_type": "code",
   "execution_count": 9,
   "id": "11484b1c-9f6b-498c-a56e-c0ea44c92bae",
   "metadata": {},
   "outputs": [
    {
     "name": "stdin",
     "output_type": "stream",
     "text": [
      "Enter a string:  2025\n"
     ]
    },
    {
     "name": "stdout",
     "output_type": "stream",
     "text": [
      "String after shifting one position to left: 0252\n"
     ]
    }
   ],
   "source": [
    "text = input(\"Enter a string: \")\n",
    "if len(text) > 1:\n",
    "    shifted_text = text[1:] + text[0]\n",
    "else:\n",
    "    shifted_text = text  # If string has only one character, keep it as is\n",
    "print(\"String after shifting one position to left:\", shifted_text)"
   ]
  },
  {
   "cell_type": "markdown",
   "id": "18793bef-140e-4cfe-9cad-27b35d47316f",
   "metadata": {},
   "source": [
    "#### Write a program that asks the user to input his name and print its initials. Assuming that the user always types first name, middle name and last name and does not include any unnecessary spaces."
   ]
  },
  {
   "cell_type": "code",
   "execution_count": 10,
   "id": "d2b84837-eaff-4aa0-b514-21eceeaf151d",
   "metadata": {},
   "outputs": [
    {
     "name": "stdin",
     "output_type": "stream",
     "text": [
      "Enter your full name (first middle last):  Muhammad Atif Khan\n"
     ]
    },
    {
     "name": "stdout",
     "output_type": "stream",
     "text": [
      "Your initials are: MAK\n"
     ]
    }
   ],
   "source": [
    "full_name = input(\"Enter your full name (first middle last): \")\n",
    "name_parts = full_name.split()\n",
    "initials = \"\"\n",
    "for part in name_parts:\n",
    "    initials += part[0].upper()\n",
    "print(\"Your initials are:\", initials)"
   ]
  },
  {
   "cell_type": "markdown",
   "id": "6ecb4b30-10e8-4e8b-ad0e-b0e36ea6ac14",
   "metadata": {},
   "source": [
    "#### A palindrome is a string that reads the same backward as forward. For example, the words dad, madam and radar are all palindromes. Write a programs that determines whether the string is a palindrome."
   ]
  },
  {
   "cell_type": "code",
   "execution_count": 11,
   "id": "e27d94e7-24f5-4f4f-a09e-4ef09ff88b63",
   "metadata": {},
   "outputs": [
    {
     "name": "stdin",
     "output_type": "stream",
     "text": [
      "Enter a string:  exam\n"
     ]
    },
    {
     "name": "stdout",
     "output_type": "stream",
     "text": [
      "\"exam\" is not a palindrome.\n"
     ]
    }
   ],
   "source": [
    "text = input(\"Enter a string: \")\n",
    "cleaned_text = text.replace(\" \", \"\").lower()\n",
    "if cleaned_text == cleaned_text[::-1]:\n",
    "    print(f'\"{text}\" is a palindrome.')\n",
    "else:\n",
    "    print(f'\"{text}\" is not a palindrome.')"
   ]
  },
  {
   "cell_type": "markdown",
   "id": "ba8fd3f7-7057-4077-b469-0d11c313095f",
   "metadata": {},
   "source": [
    "#### Write a program that display following output:\n",
    "SHIFT\n",
    "HIFTS\n",
    "IFTSH\n",
    "FTSHI\n",
    "TSHIF\n",
    "SHIFT"
   ]
  },
  {
   "cell_type": "code",
   "execution_count": 12,
   "id": "e43023b6-6bec-4fcd-93c1-8a20cf168133",
   "metadata": {},
   "outputs": [
    {
     "name": "stdout",
     "output_type": "stream",
     "text": [
      "SHIFT\n",
      "HIFTS\n",
      "IFTSH\n",
      "FTSHI\n",
      "TSHIF\n",
      "SHIFT\n"
     ]
    }
   ],
   "source": [
    "word = \"SHIFT\"\n",
    "length = len(word)\n",
    "for i in range(length):\n",
    "    shifted_word = word[i:] + word[:i]\n",
    "    print(shifted_word)\n",
    "print(word)"
   ]
  },
  {
   "cell_type": "markdown",
   "id": "1a248e8d-eead-45d2-8900-96bf581618be",
   "metadata": {},
   "source": [
    "#### Write a program in python that accepts a string to setup a passwords. Your entered password must\n",
    "meet the following requirements:\n",
    "The password must be at least eight characters long.\n",
    "It must contain at least one uppercase letter.\n",
    "It must contain at least one lowercase letter.\n",
    "It must contain at least one numeric digit.\n",
    "Your program should should perform this validation."
   ]
  },
  {
   "cell_type": "code",
   "execution_count": 14,
   "id": "c101d8a1-7c5f-42a4-8217-e919a156a7df",
   "metadata": {},
   "outputs": [
    {
     "name": "stdin",
     "output_type": "stream",
     "text": [
      "Enter your password:  Password12345.\n"
     ]
    },
    {
     "name": "stdout",
     "output_type": "stream",
     "text": [
      "Password is valid.\n"
     ]
    }
   ],
   "source": [
    "password = input(\"Enter your password: \")\n",
    "has_upper = False\n",
    "has_lower = False\n",
    "has_digit = False\n",
    "for char in password:\n",
    "    if char.isupper():\n",
    "        has_upper = True\n",
    "    elif char.islower():\n",
    "        has_lower = True\n",
    "    elif char.isdigit():\n",
    "        has_digit = True\n",
    "if len(password) >= 8 and has_upper and has_lower and has_digit:\n",
    "    print(\"Password is valid.\")\n",
    "else:\n",
    "    print(\"Password is invalid.\")\n",
    "    print(\"It must be at least 8 characters long and contain at least one uppercase letter, one lowercase letter, and one digit.\")"
   ]
  },
  {
   "cell_type": "code",
   "execution_count": null,
   "id": "c7039fad-40f0-46a7-aafc-83cbd964551d",
   "metadata": {},
   "outputs": [],
   "source": []
  }
 ],
 "metadata": {
  "kernelspec": {
   "display_name": "Python 3 (ipykernel)",
   "language": "python",
   "name": "python3"
  },
  "language_info": {
   "codemirror_mode": {
    "name": "ipython",
    "version": 3
   },
   "file_extension": ".py",
   "mimetype": "text/x-python",
   "name": "python",
   "nbconvert_exporter": "python",
   "pygments_lexer": "ipython3",
   "version": "3.13.5"
  }
 },
 "nbformat": 4,
 "nbformat_minor": 5
}
