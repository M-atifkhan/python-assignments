{
 "cells": [
  {
   "cell_type": "markdown",
   "id": "b05ca9c7-b645-4391-af83-c6df815aa7bf",
   "metadata": {},
   "source": [
    "Q1: Write a Python program to create a class representing a Circle. Include methods to calculate its area and perimeter."
   ]
  },
  {
   "cell_type": "code",
   "execution_count": 5,
   "id": "a4010245-e9e9-4b85-b26b-e22695522e8c",
   "metadata": {},
   "outputs": [
    {
     "name": "stdin",
     "output_type": "stream",
     "text": [
      "Enter radius of the circle:  5\n"
     ]
    },
    {
     "name": "stdout",
     "output_type": "stream",
     "text": [
      "Area of circle: 78.54\n",
      "Perimeter of circle: 31.416\n"
     ]
    }
   ],
   "source": [
    "class Circle:\n",
    "    def __init__(self, radius):\n",
    "        self.radius = radius\n",
    "\n",
    "    def area(self):\n",
    "        return 3.1416 * self.radius * self.radius\n",
    "\n",
    "    def perimeter(self):\n",
    "        return 2 * 3.1416 * self.radius\n",
    "r = float(input(\"Enter radius of the circle: \"))\n",
    "c = Circle(r)\n",
    "print(\"Area of circle:\", c.area())\n",
    "print(\"Perimeter of circle:\", c.perimeter())\n"
   ]
  },
  {
   "cell_type": "markdown",
   "id": "e8fa6c51-5a21-469f-8f43-aa8616de44cf",
   "metadata": {},
   "source": [
    "Q2: Write a Python program to create a person class. Include attributes like name, country and date of birth. Implement a method to determine the person's age."
   ]
  },
  {
   "cell_type": "code",
   "execution_count": 6,
   "id": "d8fa1f37-790c-48fd-bf43-f9549e081a21",
   "metadata": {},
   "outputs": [
    {
     "name": "stdin",
     "output_type": "stream",
     "text": [
      "Enter name:  muhammad atif khan\n",
      "Enter country:  pakistan\n",
      "Enter date of birth (YYYY-MM-DD):  1999-06-11\n"
     ]
    },
    {
     "name": "stdout",
     "output_type": "stream",
     "text": [
      "\n",
      "Name: muhammad atif khan\n",
      "Country: pakistan\n",
      "Date of Birth: 1999-06-11\n",
      "Age: 26\n"
     ]
    }
   ],
   "source": [
    "from datetime import date\n",
    "class Person:\n",
    "    def __init__(self, name, country, dob):\n",
    "        self.name = name\n",
    "        self.country = country\n",
    "        self.dob = dob   # dob format: YYYY-MM-DD\n",
    "    def age(self):\n",
    "        birth_year, birth_month, birth_day = map(int, self.dob.split(\"-\"))\n",
    "        today = date.today()\n",
    "        years = today.year - birth_year\n",
    "        if (today.month, today.day) < (birth_month, birth_day):\n",
    "            years -= 1\n",
    "        return years\n",
    "name = input(\"Enter name: \")\n",
    "country = input(\"Enter country: \")\n",
    "dob = input(\"Enter date of birth (YYYY-MM-DD): \")\n",
    "p = Person(name, country, dob)\n",
    "print(\"\\nName:\", p.name)\n",
    "print(\"Country:\", p.country)\n",
    "print(\"Date of Birth:\", p.dob)\n",
    "print(\"Age:\", p.age())"
   ]
  },
  {
   "cell_type": "markdown",
   "id": "7e5c4c7d-5ddb-4c25-97e1-66d35eead351",
   "metadata": {},
   "source": [
    "Q3:Write a Python program to create a calculator class. Include methods for basic arithmetic operations."
   ]
  },
  {
   "cell_type": "code",
   "execution_count": 7,
   "id": "77cd9fc2-e125-400e-976a-f7a6d4be34d0",
   "metadata": {},
   "outputs": [
    {
     "name": "stdin",
     "output_type": "stream",
     "text": [
      "Enter first number:  5\n",
      "Enter second number:  2\n"
     ]
    },
    {
     "name": "stdout",
     "output_type": "stream",
     "text": [
      "Addition: 7.0\n",
      "Subtraction: 3.0\n",
      "Multiplication: 10.0\n",
      "Division: 2.5\n"
     ]
    }
   ],
   "source": [
    "class Calculator:\n",
    "    def add(self, x, y):\n",
    "        return x + y\n",
    "    def subtract(self, x, y):\n",
    "        return x - y\n",
    "    def multiply(self, x, y):\n",
    "        return x * y\n",
    "    def divide(self, x, y):\n",
    "        if y == 0:\n",
    "            return \"Error! Division by zero.\"\n",
    "        return x / y\n",
    "a = float(input(\"Enter first number: \"))\n",
    "b = float(input(\"Enter second number: \"))\n",
    "c = Calculator()\n",
    "print(\"Addition:\", c.add(a, b))\n",
    "print(\"Subtraction:\", c.subtract(a, b))\n",
    "print(\"Multiplication:\", c.multiply(a, b))\n",
    "print(\"Division:\", c.divide(a, b))\n"
   ]
  }
 ],
 "metadata": {
  "kernelspec": {
   "display_name": "Python 3 (ipykernel)",
   "language": "python",
   "name": "python3"
  },
  "language_info": {
   "codemirror_mode": {
    "name": "ipython",
    "version": 3
   },
   "file_extension": ".py",
   "mimetype": "text/x-python",
   "name": "python",
   "nbconvert_exporter": "python",
   "pygments_lexer": "ipython3",
   "version": "3.13.5"
  }
 },
 "nbformat": 4,
 "nbformat_minor": 5
}
