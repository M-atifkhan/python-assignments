{
 "cells": [
  {
   "cell_type": "raw",
   "id": "71f63ac2-9fbe-4b49-a4a6-42dbebcaecaa",
   "metadata": {},
   "source": [
    "A company decided to give bonus of 5% to employee if his/her year of service is more than 5 years. Ask user for their salary and year of service and print the net bonus amount."
   ]
  },
  {
   "cell_type": "code",
   "execution_count": 1,
   "id": "c441ca71-5ed7-4c2d-95d5-ef6c7bf9cbb2",
   "metadata": {},
   "outputs": [
    {
     "name": "stdin",
     "output_type": "stream",
     "text": [
      "Enter your salary:  50000\n",
      "Enter your years of service:  1\n"
     ]
    },
    {
     "name": "stdout",
     "output_type": "stream",
     "text": [
      "Net Bonus Amount: 0\n"
     ]
    }
   ],
   "source": [
    "salary = float(input(\"Enter your salary: \"))\n",
    "years_of_service = int(input(\"Enter your years of service: \"))\n",
    "\n",
    "if years_of_service > 5:\n",
    "    bonus = salary * 5 / 100\n",
    "else:\n",
    "    bonus = 0\n",
    "\n",
    "print(\"Net Bonus Amount:\", bonus)"
   ]
  },
  {
   "cell_type": "raw",
   "id": "dfc667df-1c3a-4c48-8826-eb53e4466cc6",
   "metadata": {},
   "source": [
    "Write a program to check whether a person is eligible for voting or not. (accept age from user) if age is greater than 17 eligible otherwise not eligible"
   ]
  },
  {
   "cell_type": "code",
   "execution_count": 2,
   "id": "5eb2a592-2bb8-4da8-8b0f-95f19a3f1007",
   "metadata": {},
   "outputs": [
    {
     "name": "stdin",
     "output_type": "stream",
     "text": [
      "Enter your age:  26\n"
     ]
    },
    {
     "name": "stdout",
     "output_type": "stream",
     "text": [
      "You are eligible to vote.\n"
     ]
    }
   ],
   "source": [
    "age = int(input(\"Enter your age: \"))\n",
    "\n",
    "if age > 17:\n",
    "    print(\"You are eligible to vote.\")\n",
    "else:\n",
    "    print(\"You are not eligible to vote.\")"
   ]
  },
  {
   "cell_type": "raw",
   "id": "00ca56d5-5454-437f-b177-0b56a364026b",
   "metadata": {},
   "source": [
    "Write a program to check whether a number entered by user is even or odd."
   ]
  },
  {
   "cell_type": "code",
   "execution_count": 6,
   "id": "32596dc2-5942-433e-9101-86be6da70856",
   "metadata": {},
   "outputs": [
    {
     "name": "stdin",
     "output_type": "stream",
     "text": [
      "Enter a number:  25\n"
     ]
    },
    {
     "name": "stdout",
     "output_type": "stream",
     "text": [
      "25 is odd.\n"
     ]
    }
   ],
   "source": [
    "number = int(input(\"Enter a number: \"))\n",
    "\n",
    "if number % 2 == 0:\n",
    "    print(f\"{number} is even.\")\n",
    "else:\n",
    "    print(f\"{number} is odd.\")\n"
   ]
  },
  {
   "cell_type": "raw",
   "id": "a3799abb-7104-430b-8551-07af0d919fe2",
   "metadata": {},
   "source": [
    "Write a program to check whether a number is divisible by 7 or not. Show Answer"
   ]
  },
  {
   "cell_type": "code",
   "execution_count": 7,
   "id": "d91d6103-d477-4368-b193-95d02ac301f0",
   "metadata": {},
   "outputs": [
    {
     "name": "stdin",
     "output_type": "stream",
     "text": [
      "Enter a number:  50\n"
     ]
    },
    {
     "name": "stdout",
     "output_type": "stream",
     "text": [
      "50 is not divisible by 7.\n"
     ]
    }
   ],
   "source": [
    "number = int(input(\"Enter a number: \"))\n",
    "if number % 7 == 0:\n",
    "    print(f\"{number} is divisible by 7.\")\n",
    "else:\n",
    "    print(f\"{number} is not divisible by 7.\")"
   ]
  },
  {
   "cell_type": "raw",
   "id": "19bd21dc-7033-48c5-b4b0-53300220744c",
   "metadata": {},
   "source": [
    "Write a program to display \"Hello\" if a number entered by user is a multiple of five , otherwise print \"Bye\"."
   ]
  },
  {
   "cell_type": "code",
   "execution_count": 8,
   "id": "684320b9-9080-4971-8af5-18a22deced33",
   "metadata": {},
   "outputs": [
    {
     "name": "stdin",
     "output_type": "stream",
     "text": [
      "Enter a number:  5\n"
     ]
    },
    {
     "name": "stdout",
     "output_type": "stream",
     "text": [
      "Hello\n"
     ]
    }
   ],
   "source": [
    "number = int(input(\"Enter a number: \"))\n",
    "if number % 5 == 0:\n",
    "    print(\"Hello\")\n",
    "else:\n",
    "    print(\"Bye\")"
   ]
  },
  {
   "cell_type": "raw",
   "id": "7269ea94-3b7b-429e-8b0e-4094fd58b6ec",
   "metadata": {},
   "source": [
    "Write a program to display the last digit of a number."
   ]
  },
  {
   "cell_type": "code",
   "execution_count": 9,
   "id": "e5e200cf-adfd-45b0-a30f-3ce3bcfb3e4e",
   "metadata": {},
   "outputs": [
    {
     "name": "stdin",
     "output_type": "stream",
     "text": [
      "Enter a number:  5\n"
     ]
    },
    {
     "name": "stdout",
     "output_type": "stream",
     "text": [
      "The last digit is: 5\n"
     ]
    }
   ],
   "source": [
    "number = int(input(\"Enter a number: \"))\n",
    "last_digit = number % 10\n",
    "print(\"The last digit is:\", last_digit)"
   ]
  },
  {
   "cell_type": "raw",
   "id": "d63a1a3e-b0bb-4a48-b3aa-c94e5ce56b65",
   "metadata": {},
   "source": [
    "Take values of length and breadth of a rectangle from user and print if it is square or rectangle."
   ]
  },
  {
   "cell_type": "code",
   "execution_count": 10,
   "id": "d1c6fa43-1892-4c3e-9e84-82512a095543",
   "metadata": {},
   "outputs": [
    {
     "name": "stdin",
     "output_type": "stream",
     "text": [
      "Enter the length of the rectangle:  5\n",
      "Enter the breadth of the rectangle:  5\n"
     ]
    },
    {
     "name": "stdout",
     "output_type": "stream",
     "text": [
      "It is a square.\n"
     ]
    }
   ],
   "source": [
    "length = float(input(\"Enter the length of the rectangle: \"))\n",
    "breadth = float(input(\"Enter the breadth of the rectangle: \"))\n",
    "if length == breadth:\n",
    "    print(\"It is a square.\")\n",
    "else:\n",
    "    print(\"It is a rectangle.\")"
   ]
  },
  {
   "cell_type": "raw",
   "id": "4e65aa5d-d4f7-473b-ab67-717f3ef10512",
   "metadata": {},
   "source": [
    "Take two int values from user and print greatest among them."
   ]
  },
  {
   "cell_type": "code",
   "execution_count": 11,
   "id": "4645128c-d873-4a9b-b429-cc757eeaa4ee",
   "metadata": {},
   "outputs": [
    {
     "name": "stdin",
     "output_type": "stream",
     "text": [
      "Enter first number:  5\n",
      "Enter second number:  2\n"
     ]
    },
    {
     "name": "stdout",
     "output_type": "stream",
     "text": [
      "The greatest number is 5\n"
     ]
    }
   ],
   "source": [
    "num1 = int(input(\"Enter first number: \"))\n",
    "num2 = int(input(\"Enter second number: \"))\n",
    "if num1 > num2:\n",
    "    print(f\"The greatest number is {num1}\")\n",
    "elif num2 > num1:\n",
    "    print(f\"The greatest number is {num2}\")\n",
    "else:\n",
    "    print(\"Both numbers are equal\")"
   ]
  },
  {
   "cell_type": "raw",
   "id": "89ecf73d-5f58-46c5-80f3-4a10ac940709",
   "metadata": {},
   "source": [
    "A shop will give discount of 10% if the cost of purchased quantity is more than 1000. Ask user for quantity Suppose, one unit will cost 100. Judge and print total cost for user."
   ]
  },
  {
   "cell_type": "code",
   "execution_count": 12,
   "id": "bcdffd01-2205-4674-9f6b-d6b2a642b162",
   "metadata": {},
   "outputs": [
    {
     "name": "stdin",
     "output_type": "stream",
     "text": [
      "Enter the quantity:  60\n"
     ]
    },
    {
     "name": "stdout",
     "output_type": "stream",
     "text": [
      "Total Cost: 6000\n",
      "Discount: 600.0\n",
      "Net Cost to Pay: 5400.0\n"
     ]
    }
   ],
   "source": [
    "quantity = int(input(\"Enter the quantity: \"))\n",
    "unit_price = 100\n",
    "total_cost = quantity * unit_price\n",
    "if total_cost > 1000:\n",
    "    discount = total_cost * 10 / 100\n",
    "else:\n",
    "    discount = 0\n",
    "net_cost = total_cost - discount\n",
    "print(\"Total Cost:\", total_cost)\n",
    "print(\"Discount:\", discount)\n",
    "print(\"Net Cost to Pay:\", net_cost)\n"
   ]
  },
  {
   "cell_type": "raw",
   "id": "02080050-177b-4ed3-8ddb-d61586444b98",
   "metadata": {},
   "source": [
    "A school has following rules for grading system:\n",
    "a. Below 25 - F\n",
    "\n",
    "b. 25 to 45 - E\n",
    "\n",
    "c. 45 to 50 - D\n",
    "\n",
    "d. 50 to 60 - C\n",
    "\n",
    "e. 60 to 80 - B\n",
    "\n",
    "f. Above 80 - A\n",
    "\n",
    "Ask user to enter marks and print the corresponding grade."
   ]
  },
  {
   "cell_type": "code",
   "execution_count": 13,
   "id": "ca419bae-1ee1-4b97-ba6b-91f56e786e87",
   "metadata": {},
   "outputs": [
    {
     "name": "stdin",
     "output_type": "stream",
     "text": [
      "Enter your marks:  50\n"
     ]
    },
    {
     "name": "stdout",
     "output_type": "stream",
     "text": [
      "Your grade is: C\n"
     ]
    }
   ],
   "source": [
    "marks = float(input(\"Enter your marks: \"))\n",
    "if marks < 25:\n",
    "    grade = \"F\"\n",
    "elif marks < 45:\n",
    "    grade = \"E\"\n",
    "elif marks < 50:\n",
    "    grade = \"D\"\n",
    "elif marks < 60:\n",
    "    grade = \"C\"\n",
    "elif marks < 80:\n",
    "    grade = \"B\"\n",
    "else:\n",
    "    grade = \"A\"\n",
    "print(\"Your grade is:\", grade)\n"
   ]
  },
  {
   "cell_type": "raw",
   "id": "ddc4aa8f-243d-40bd-977b-9f25a8787bac",
   "metadata": {},
   "source": [
    "A student will not be allowed to sit in exam if his/her attendence is less than 75%.\n",
    "\n",
    "Take following input from user\n",
    "\n",
    "Number of classes held\n",
    "\n",
    "Number of classes attended.\n",
    "\n",
    "And print\n",
    "\n",
    "percentage of class attended\n",
    "\n",
    "Is student is allowed to sit in exam or not."
   ]
  },
  {
   "cell_type": "code",
   "execution_count": 14,
   "id": "06e5ffb9-2475-471e-b248-2ef0443f9491",
   "metadata": {},
   "outputs": [
    {
     "name": "stdin",
     "output_type": "stream",
     "text": [
      "Enter number of classes held:  55\n",
      "Enter number of classes attended:  60\n"
     ]
    },
    {
     "name": "stdout",
     "output_type": "stream",
     "text": [
      "Attendance Percentage: 109.09090909090908 %\n",
      "Student is allowed to sit in the exam.\n"
     ]
    }
   ],
   "source": [
    "classes_held = int(input(\"Enter number of classes held: \"))\n",
    "classes_attended = int(input(\"Enter number of classes attended: \"))\n",
    "attendance_percentage = (classes_attended / classes_held) * 100\n",
    "print(\"Attendance Percentage:\", attendance_percentage, \"%\")\n",
    "if attendance_percentage >= 75:\n",
    "    print(\"Student is allowed to sit in the exam.\")\n",
    "else:\n",
    "    print(\"Student is not allowed to sit in the exam.\")"
   ]
  },
  {
   "cell_type": "raw",
   "id": "83c26f33-49c3-444e-9b96-50944fd9d482",
   "metadata": {},
   "source": [
    "Modify the above question to allow student to sit if he/she has medical cause. Ask user if he/she has medical cause or not ( 'Y' or 'N' ) and print accordingly."
   ]
  },
  {
   "cell_type": "code",
   "execution_count": 15,
   "id": "10f13a37-96d6-48bf-bbc0-d267a6f398ad",
   "metadata": {},
   "outputs": [
    {
     "name": "stdin",
     "output_type": "stream",
     "text": [
      "Enter number of classes held:  5\n",
      "Enter number of classes attended:  50\n",
      "Do you have a medical cause? (Y/N):  y\n"
     ]
    },
    {
     "name": "stdout",
     "output_type": "stream",
     "text": [
      "Attendance Percentage: 1000.0 %\n",
      "Student is allowed to sit in the exam.\n"
     ]
    }
   ],
   "source": [
    "classes_held = int(input(\"Enter number of classes held: \"))\n",
    "classes_attended = int(input(\"Enter number of classes attended: \"))\n",
    "medical_cause = input(\"Do you have a medical cause? (Y/N): \").upper()\n",
    "attendance_percentage = (classes_attended / classes_held) * 100\n",
    "print(\"Attendance Percentage:\", attendance_percentage, \"%\")\n",
    "if attendance_percentage >= 75 or medical_cause == 'Y':\n",
    "    print(\"Student is allowed to sit in the exam.\")\n",
    "else:\n",
    "    print(\"Student is not allowed to sit in the exam.\")"
   ]
  },
  {
   "cell_type": "raw",
   "id": "12da4a01-37c5-441a-81e7-ba5b82c5f2a3",
   "metadata": {},
   "source": [
    "Write a program to check if a year is leap year or not.\n",
    "If a year is divisible by 4 then it is leap year but if the year is century year like 2000, 1900, 2100 then it must be divisible by 400."
   ]
  },
  {
   "cell_type": "code",
   "execution_count": 16,
   "id": "29987629-e345-4c90-bafd-f0802bd21144",
   "metadata": {},
   "outputs": [
    {
     "name": "stdin",
     "output_type": "stream",
     "text": [
      "Enter a year:  1999\n"
     ]
    },
    {
     "name": "stdout",
     "output_type": "stream",
     "text": [
      "1999 is not a leap year.\n"
     ]
    }
   ],
   "source": [
    "year = int(input(\"Enter a year: \"))\n",
    "if (year % 4 == 0 and year % 100 != 0) or (year % 400 == 0):\n",
    "    print(f\"{year} is a leap year.\")\n",
    "else:\n",
    "    print(f\"{year} is not a leap year.\")"
   ]
  },
  {
   "cell_type": "raw",
   "id": "4e32156c-76c1-4b33-935b-177ac426e64e",
   "metadata": {},
   "source": [
    "Ask user to enter age, gender ( M or F ), marital status ( Y or N ) and then using following rules print their place of service.\n",
    "if employee is female, then she will work only in urban areas.\n",
    "\n",
    "if employee is a male and age is in between 20 to 40 then he may work in anywhere\n",
    "\n",
    "if employee is male and age is in between 40 t0 60 then he will work in urban areas only.\n",
    "\n",
    "And any other input of age should print \"ERROR\""
   ]
  },
  {
   "cell_type": "code",
   "execution_count": 17,
   "id": "2d5e81d8-4c88-4564-8668-9fe47f7e6613",
   "metadata": {},
   "outputs": [
    {
     "name": "stdin",
     "output_type": "stream",
     "text": [
      "Enter your age:  26\n",
      "Enter your gender (M/F):  m\n",
      "Enter your marital status (Y/N):  n\n"
     ]
    },
    {
     "name": "stdout",
     "output_type": "stream",
     "text": [
      "He may work anywhere.\n"
     ]
    }
   ],
   "source": [
    "age = int(input(\"Enter your age: \"))\n",
    "gender = input(\"Enter your gender (M/F): \").upper()\n",
    "marital_status = input(\"Enter your marital status (Y/N): \").upper()\n",
    "if gender == 'F':\n",
    "    print(\"She will work only in urban areas.\")\n",
    "elif gender == 'M':\n",
    "    if 20 <= age <= 40:\n",
    "        print(\"He may work anywhere.\")\n",
    "    elif 40 < age <= 60:\n",
    "        print(\"He will work only in urban areas.\")\n",
    "    else:\n",
    "        print(\"ERROR\")\n",
    "else:\n",
    "    print(\"ERROR\")"
   ]
  },
  {
   "cell_type": "raw",
   "id": "81a872a3-644b-4599-bc7d-c2094e4cafb7",
   "metadata": {},
   "source": [
    "Write a program to calculate the electricity bill (accept number of unit from user) according to the following criteria : Unit Price\n",
    "uptp 100 units no charge Next 200 units Rs 5 per unit After 200 units Rs 10 per unit (For example if input unit is 350 than total bill amount is Rs.3500 (For example if input unit is 97 than total bill amount is Rs.0 (For example if input unit is 150 than total bill amount is Rs.750\n",
    "Take input of age of 3 people by user and determine oldest and youngest among them."
   ]
  },
  {
   "cell_type": "code",
   "execution_count": 18,
   "id": "dabb0345-7c59-4d4b-bf3e-aa9bb0788a93",
   "metadata": {},
   "outputs": [
    {
     "name": "stdin",
     "output_type": "stream",
     "text": [
      "Enter number of electricity units consumed:  156\n"
     ]
    },
    {
     "name": "stdout",
     "output_type": "stream",
     "text": [
      "Total electricity bill amount: Rs. 280\n"
     ]
    }
   ],
   "source": [
    "units = int(input(\"Enter number of electricity units consumed: \"))\n",
    "if units <= 100:\n",
    "    bill = 0\n",
    "elif units <= 300:\n",
    "    bill = (units - 100) * 5\n",
    "else:\n",
    "    bill = (200 * 5) + (units - 300) * 10\n",
    "print(\"Total electricity bill amount: Rs.\", bill)"
   ]
  }
 ],
 "metadata": {
  "kernelspec": {
   "display_name": "Python 3 (ipykernel)",
   "language": "python",
   "name": "python3"
  },
  "language_info": {
   "codemirror_mode": {
    "name": "ipython",
    "version": 3
   },
   "file_extension": ".py",
   "mimetype": "text/x-python",
   "name": "python",
   "nbconvert_exporter": "python",
   "pygments_lexer": "ipython3",
   "version": "3.13.5"
  }
 },
 "nbformat": 4,
 "nbformat_minor": 5
}
