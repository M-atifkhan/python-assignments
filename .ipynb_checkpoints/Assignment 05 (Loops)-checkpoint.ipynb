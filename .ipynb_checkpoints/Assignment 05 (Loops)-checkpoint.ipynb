{
 "cells": [
  {
   "cell_type": "raw",
   "id": "17ad8fe9-9a3b-413c-9f48-4765bec7c231",
   "metadata": {},
   "source": [
    "Write a Python program to print the numbers from 1 to 10 using a for loop."
   ]
  },
  {
   "cell_type": "code",
   "execution_count": 1,
   "id": "1df47f1a-d062-4b20-b0a0-b228dd57946d",
   "metadata": {},
   "outputs": [
    {
     "name": "stdout",
     "output_type": "stream",
     "text": [
      "1\n",
      "2\n",
      "3\n",
      "4\n",
      "5\n",
      "6\n",
      "7\n",
      "8\n",
      "9\n",
      "10\n"
     ]
    }
   ],
   "source": [
    "for i in range(1, 11):\n",
    "    print(i)"
   ]
  },
  {
   "cell_type": "raw",
   "id": "321d1306-eb20-4816-8354-ac622aa7a96d",
   "metadata": {},
   "source": [
    "Write a Python program to print the numbers from 20 to 1 using a while loop."
   ]
  },
  {
   "cell_type": "code",
   "execution_count": 2,
   "id": "85617b4a-e8e9-48d5-b1e9-c17fa16dbc4d",
   "metadata": {},
   "outputs": [
    {
     "name": "stdout",
     "output_type": "stream",
     "text": [
      "20\n",
      "19\n",
      "18\n",
      "17\n",
      "16\n",
      "15\n",
      "14\n",
      "13\n",
      "12\n",
      "11\n",
      "10\n",
      "9\n",
      "8\n",
      "7\n",
      "6\n",
      "5\n",
      "4\n",
      "3\n",
      "2\n",
      "1\n"
     ]
    }
   ],
   "source": [
    "num = 20\n",
    "while num >= 1:\n",
    "    print(num)\n",
    "    num -= 1"
   ]
  },
  {
   "cell_type": "raw",
   "id": "12778516-d4b8-4e33-ba40-7435871a7cb1",
   "metadata": {},
   "source": [
    "Write a program to print even numbers from 1 to 10."
   ]
  },
  {
   "cell_type": "code",
   "execution_count": 3,
   "id": "f7ef36c0-046a-485d-bd43-219b3a41a422",
   "metadata": {},
   "outputs": [
    {
     "name": "stdout",
     "output_type": "stream",
     "text": [
      "2\n",
      "4\n",
      "6\n",
      "8\n",
      "10\n"
     ]
    }
   ],
   "source": [
    "for i in range(1, 11):\n",
    "    if i % 2 == 0:\n",
    "        print(i)"
   ]
  },
  {
   "cell_type": "raw",
   "id": "9d194d69-c283-4865-93f9-5be3184c38e9",
   "metadata": {},
   "source": [
    "Write a program that prompts the user to enter a number n and prints all the\n",
    "numbers from 1 to n."
   ]
  },
  {
   "cell_type": "code",
   "execution_count": 4,
   "id": "72371802-94a5-4225-9f33-d6b478719588",
   "metadata": {},
   "outputs": [
    {
     "name": "stdin",
     "output_type": "stream",
     "text": [
      "Enter a number:  10\n"
     ]
    },
    {
     "name": "stdout",
     "output_type": "stream",
     "text": [
      "1\n",
      "2\n",
      "3\n",
      "4\n",
      "5\n",
      "6\n",
      "7\n",
      "8\n",
      "9\n",
      "10\n"
     ]
    }
   ],
   "source": [
    "n = int(input(\"Enter a number: \"))\n",
    "for i in range(1, n + 1):\n",
    "    print(i)"
   ]
  },
  {
   "cell_type": "raw",
   "id": "9ca7a32f-00d3-40da-8e85-6663a2ca2759",
   "metadata": {},
   "source": [
    "Write a program that prompts the user to enter a number n, and then prints all the\n",
    "odd numbers between 1 and n."
   ]
  },
  {
   "cell_type": "code",
   "execution_count": 5,
   "id": "065f60b9-3565-41df-9a13-e07ca727e33f",
   "metadata": {},
   "outputs": [
    {
     "name": "stdin",
     "output_type": "stream",
     "text": [
      "Enter a number:  10\n"
     ]
    },
    {
     "name": "stdout",
     "output_type": "stream",
     "text": [
      "1\n",
      "3\n",
      "5\n",
      "7\n",
      "9\n"
     ]
    }
   ],
   "source": [
    "n = int(input(\"Enter a number: \"))\n",
    "for i in range(1, n + 1):\n",
    "    if i % 2 != 0:\n",
    "        print(i)"
   ]
  },
  {
   "cell_type": "raw",
   "id": "c0b9a93e-ad54-4250-83c7-928a7b9444b4",
   "metadata": {},
   "source": [
    "Write a program that prints 'Happy Birthday!' five times on screen."
   ]
  },
  {
   "cell_type": "code",
   "execution_count": 6,
   "id": "e64468bf-df4f-4ede-93c3-c3c06ee6deaf",
   "metadata": {},
   "outputs": [
    {
     "name": "stdout",
     "output_type": "stream",
     "text": [
      "Happy Birthday!\n",
      "Happy Birthday!\n",
      "Happy Birthday!\n",
      "Happy Birthday!\n",
      "Happy Birthday!\n"
     ]
    }
   ],
   "source": [
    "for i in range(5):\n",
    "    print(\"Happy Birthday!\")"
   ]
  },
  {
   "cell_type": "raw",
   "id": "e7f60c79-2c9c-4e6e-8848-723dfc15fc3d",
   "metadata": {},
   "source": [
    "Write a program that takes a number n as input from the user and generates the first\n",
    "n terms of the series formed by squaring the natural numbers."
   ]
  },
  {
   "cell_type": "code",
   "execution_count": 7,
   "id": "1d7b2317-bacb-4197-8ca4-63d03eb6a988",
   "metadata": {},
   "outputs": [
    {
     "name": "stdin",
     "output_type": "stream",
     "text": [
      "Enter a number:  5\n"
     ]
    },
    {
     "name": "stdout",
     "output_type": "stream",
     "text": [
      "The first 5 terms of the series are:\n",
      "1 4 9 16 25 "
     ]
    }
   ],
   "source": [
    "n = int(input(\"Enter a number: \"))\n",
    "print(f\"The first {n} terms of the series are:\")\n",
    "for i in range(1, n + 1):\n",
    "    print(i**2, end=\" \")"
   ]
  },
  {
   "cell_type": "raw",
   "id": "0a5f17e1-8a74-4573-be0d-54ad6c4c6789",
   "metadata": {},
   "source": [
    "Write a program that prompts the user to input a number and prints its multiplication\n",
    "table."
   ]
  },
  {
   "cell_type": "code",
   "execution_count": 8,
   "id": "998fd79d-95b5-4cbf-a68b-382b33c6aaa7",
   "metadata": {},
   "outputs": [
    {
     "name": "stdin",
     "output_type": "stream",
     "text": [
      "Enter a number:  6\n"
     ]
    },
    {
     "name": "stdout",
     "output_type": "stream",
     "text": [
      "Multiplication table of 6:\n",
      "6 x 1 = 6\n",
      "6 x 2 = 12\n",
      "6 x 3 = 18\n",
      "6 x 4 = 24\n",
      "6 x 5 = 30\n",
      "6 x 6 = 36\n",
      "6 x 7 = 42\n",
      "6 x 8 = 48\n",
      "6 x 9 = 54\n",
      "6 x 10 = 60\n"
     ]
    }
   ],
   "source": [
    "num = int(input(\"Enter a number: \"))\n",
    "print(f\"Multiplication table of {num}:\")\n",
    "for i in range(1, 11):\n",
    "    print(f\"{num} x {i} = {num * i}\")"
   ]
  },
  {
   "cell_type": "raw",
   "id": "d61e2d8c-30b0-4948-a14d-10956de1e05f",
   "metadata": {},
   "source": [
    "Write a Python program to print the first 8 terms of an arithmetic progression starting\n",
    "with 3 and having a common difference of 4.\n",
    "The program should output the following sequence:\n",
    "3 7 11 15 19 23 27 31"
   ]
  },
  {
   "cell_type": "code",
   "execution_count": 10,
   "id": "bec5ee1f-29c4-45be-9de6-f38f3d633c0b",
   "metadata": {},
   "outputs": [
    {
     "name": "stdout",
     "output_type": "stream",
     "text": [
      "The first 8 terms of the AP are:\n",
      "3 7 11 15 19 23 27 31 "
     ]
    }
   ],
   "source": [
    "first_term = 3\n",
    "common_difference = 4\n",
    "n_terms = 8\n",
    "print(\"The first 8 terms of the AP are:\")\n",
    "for i in range(n_terms):\n",
    "    term = first_term + i * common_difference\n",
    "    print(term, end=\" \")"
   ]
  },
  {
   "cell_type": "raw",
   "id": "aa5df0ae-5f67-4a37-bc0d-2ea04ccf713d",
   "metadata": {},
   "source": [
    "Write a Python program to print the first 6 terms of a geometric sequence starting\n",
    "with 2 and having a common ratio of 3.\n",
    "The program should output the following sequence:\n",
    "2 6 18 54 162 486"
   ]
  },
  {
   "cell_type": "code",
   "execution_count": 11,
   "id": "155429c5-4247-4b9d-9d01-cdd0d5ea7da9",
   "metadata": {},
   "outputs": [
    {
     "name": "stdout",
     "output_type": "stream",
     "text": [
      "The first 6 terms of the GP are:\n",
      "2 6 18 54 162 486 "
     ]
    }
   ],
   "source": [
    "first_term = 2\n",
    "common_ratio = 3\n",
    "n_terms = 6\n",
    "print(\"The first 6 terms of the GP are:\")\n",
    "for i in range(n_terms):\n",
    "    term = first_term * (common_ratio ** i)\n",
    "    print(term, end=\" \")"
   ]
  },
  {
   "cell_type": "raw",
   "id": "e564ffe4-82ae-4be6-af16-b6150541a00a",
   "metadata": {},
   "source": [
    "Write a program that asks the user for a positive integer value. The program should\n",
    "calculate the sum of all the integers from 1 up to the number entered. For example, if\n",
    "the user enters 20, the loop will find the sum of 1, 2, 3, 4, ... 20."
   ]
  },
  {
   "cell_type": "code",
   "execution_count": 12,
   "id": "c12b8579-7a65-423c-b167-e275e18840fe",
   "metadata": {},
   "outputs": [
    {
     "name": "stdin",
     "output_type": "stream",
     "text": [
      "Enter a positive integer:  45\n"
     ]
    },
    {
     "name": "stdout",
     "output_type": "stream",
     "text": [
      "The sum of integers from 1 to 45 is 1035.\n"
     ]
    }
   ],
   "source": [
    "n = int(input(\"Enter a positive integer: \"))\n",
    "total = 0\n",
    "for i in range(1, n + 1):\n",
    "    total += i\n",
    "print(f\"The sum of integers from 1 to {n} is {total}.\")"
   ]
  },
  {
   "cell_type": "raw",
   "id": "79b3866d-fa7e-4885-b207-c41c1e4af487",
   "metadata": {},
   "source": [
    "write a program that takes a positive integer N as input and calculates the sum of\n",
    "the reciprocals of all numbers from 1 up to N. The program should display the final sum."
   ]
  },
  {
   "cell_type": "code",
   "execution_count": 13,
   "id": "2be4258d-1f71-42b1-b035-ff162d47f7f3",
   "metadata": {},
   "outputs": [
    {
     "name": "stdin",
     "output_type": "stream",
     "text": [
      "Enter a positive integer:  5\n"
     ]
    },
    {
     "name": "stdout",
     "output_type": "stream",
     "text": [
      "The sum of reciprocals from 1 to 5 is: 2.28\n"
     ]
    }
   ],
   "source": [
    "N = int(input(\"Enter a positive integer: \"))\n",
    "reciprocal_sum = 0\n",
    "for i in range(1, N + 1):\n",
    "    reciprocal_sum += 1 / i\n",
    "print(f\"The sum of reciprocals from 1 to {N} is: {reciprocal_sum:.2f}\")"
   ]
  },
  {
   "cell_type": "raw",
   "id": "22fa7bfb-92f0-46b0-86bf-3c39a03345e7",
   "metadata": {},
   "source": [
    "Write a program that prompts the user to enter a number and repeats this process 5\n",
    "times. The program should accumulate the numbers entered and then display the final\n",
    "running total."
   ]
  },
  {
   "cell_type": "code",
   "execution_count": 14,
   "id": "3c381c49-85ce-4e8b-9357-a92d7bc634dc",
   "metadata": {},
   "outputs": [
    {
     "name": "stdin",
     "output_type": "stream",
     "text": [
      "Enter a number:  10\n",
      "Enter a number:  10\n",
      "Enter a number:  10\n",
      "Enter a number:  10\n",
      "Enter a number:  10\n"
     ]
    },
    {
     "name": "stdout",
     "output_type": "stream",
     "text": [
      "The final running total is: 50\n"
     ]
    }
   ],
   "source": [
    "total = 0\n",
    "for i in range(5):\n",
    "    num = int(input(\"Enter a number: \"))\n",
    "    total += num\n",
    "print(f\"The final running total is: {total}\")"
   ]
  },
  {
   "cell_type": "raw",
   "id": "33fb1b2e-7bdc-4e32-b2b1-db6aaaa11fab",
   "metadata": {},
   "source": [
    "Write a program that prompts the user to enter a positive integer and calculates its\n",
    "factorial. The factorial of a positive integer 'n' is denoted as 'n!' and is calculated by\n",
    "multiplying all the integers from 1 to 'n' together. For example, the factorial of 5\n",
    "(denoted as 5!) is calculated as 1 x 2 x 3 x 4 x 5."
   ]
  },
  {
   "cell_type": "code",
   "execution_count": 17,
   "id": "159183fc-29e2-42d8-b23a-a662f19c27cf",
   "metadata": {},
   "outputs": [
    {
     "name": "stdin",
     "output_type": "stream",
     "text": [
      "Enter a positive integer:  6\n"
     ]
    },
    {
     "name": "stdout",
     "output_type": "stream",
     "text": [
      "The factorial of 6 is: 720\n"
     ]
    }
   ],
   "source": [
    "n = int(input(\"Enter a positive integer: \"))\n",
    "factorial = 1\n",
    "for i in range(1, n + 1):\n",
    "    factorial *= i\n",
    "print(f\"The factorial of {n} is: {factorial}\")"
   ]
  },
  {
   "cell_type": "raw",
   "id": "b6af6fdf-f69e-4ae5-8692-16f2daf9d20a",
   "metadata": {},
   "source": [
    "Write a Python program that prompts the user to enter a base number and an\n",
    "exponent, and then calculates the power of the base to the exponent. The program\n",
    "should not use the exponentiation operator (**) or the math.pow() function. The\n",
    "program should handle both positive and negative exponents."
   ]
  },
  {
   "cell_type": "code",
   "execution_count": 18,
   "id": "b7a5a668-15b9-4d36-89a8-d0607efb30c4",
   "metadata": {},
   "outputs": [
    {
     "name": "stdin",
     "output_type": "stream",
     "text": [
      "Enter the base number:  2\n",
      "Enter the exponent:  3\n"
     ]
    },
    {
     "name": "stdout",
     "output_type": "stream",
     "text": [
      "2.0 raised to the power 3 is: 8.0\n"
     ]
    }
   ],
   "source": [
    "base = float(input(\"Enter the base number: \"))\n",
    "exponent = int(input(\"Enter the exponent: \"))\n",
    "result = 1\n",
    "if exponent >= 0:\n",
    "    for _ in range(exponent):\n",
    "        result *= base\n",
    "else:\n",
    "    for _ in range(-exponent):\n",
    "        result *= base\n",
    "    result = 1 / result\n",
    "print(f\"{base} raised to the power {exponent} is: {result}\")"
   ]
  }
 ],
 "metadata": {
  "kernelspec": {
   "display_name": "Python 3 (ipykernel)",
   "language": "python",
   "name": "python3"
  },
  "language_info": {
   "codemirror_mode": {
    "name": "ipython",
    "version": 3
   },
   "file_extension": ".py",
   "mimetype": "text/x-python",
   "name": "python",
   "nbconvert_exporter": "python",
   "pygments_lexer": "ipython3",
   "version": "3.13.5"
  }
 },
 "nbformat": 4,
 "nbformat_minor": 5
}
